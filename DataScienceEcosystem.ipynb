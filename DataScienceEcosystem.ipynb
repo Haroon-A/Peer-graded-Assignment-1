{
  "metadata": {
    "kernelspec": {
      "name": "python",
      "display_name": "Python (Pyodide)",
      "language": "python"
    },
    "language_info": {
      "codemirror_mode": {
        "name": "python",
        "version": 3
      },
      "file_extension": ".py",
      "mimetype": "text/x-python",
      "name": "python",
      "nbconvert_exporter": "python",
      "pygments_lexer": "ipython3",
      "version": "3.8"
    }
  },
  "nbformat_minor": 4,
  "nbformat": 4,
  "cells": [
    {
      "cell_type": "markdown",
      "source": "# Data Science Tools and Ecosystem\n",
      "metadata": {
        "editable": true,
        "slideshow": {
          "slide_type": ""
        }
      }
    },
    {
      "cell_type": "markdown",
      "source": "## Introduction\r\n\r\nIn this notebook, Data Science Tools and Ecosystem are summarized.\r\n",
      "metadata": {}
    },
    {
      "cell_type": "markdown",
      "source": "## Data Science Languages\r\n\r\nSome of the popular languages that Data Scientists use are:\r\n1. Python\r\n2. R\r\n3. Julia\r\n",
      "metadata": {}
    },
    {
      "cell_type": "markdown",
      "source": "## Data Science Libraries\r\n\r\nSome of the commonly used libraries used by Data Scientists include:\r\n1. NumPy\r\n2. Pandas\r\n3. Scikit-learn\r\n",
      "metadata": {
        "editable": true,
        "slideshow": {
          "slide_type": ""
        }
      }
    },
    {
      "cell_type": "markdown",
      "source": "## Data Science Tools\n\n| Tool          | Purpose                 |\n| ------------- | ----------------------- |\n| Jupyter       | Interactive coding      |\n| VS Code       | Integrated development  |\n| Tableau       | Data visualization      |\n| Docker        | Containerization        |\n",
      "metadata": {
        "editable": true,
        "slideshow": {
          "slide_type": ""
        }
      }
    },
    {
      "cell_type": "markdown",
      "source": "### Arithmetic Expression Examples\r\n\r\nBelow are a few examples of evaluating arithmetic expressions in Python.\r\n",
      "metadata": {}
    },
    {
      "cell_type": "code",
      "source": "# Code for multiplication and addition\na = 5\nb = 3\nmultiply_result = a * b\nadd_result = a + b\n\nprint(f\"Multiplication result: {multiply_result}\")\nprint(f\"Addition result: {add_result}\")\n",
      "metadata": {
        "trusted": true,
        "editable": true,
        "slideshow": {
          "slide_type": ""
        }
      },
      "outputs": [
        {
          "name": "stdout",
          "text": "Multiplication result: 15\nAddition result: 8\n",
          "output_type": "stream"
        }
      ],
      "execution_count": 1
    },
    {
      "cell_type": "code",
      "source": "# Code for converting minutes to hours\nminutes = 120\nhours = minutes / 60\n\nprint(f\"{minutes} minutes is equal to {hours} hours.\")\n",
      "metadata": {
        "trusted": true,
        "editable": true,
        "slideshow": {
          "slide_type": ""
        }
      },
      "outputs": [
        {
          "name": "stdout",
          "text": "120 minutes is equal to 2.0 hours.\n",
          "output_type": "stream"
        }
      ],
      "execution_count": 2
    },
    {
      "cell_type": "markdown",
      "source": "## Objectives\n\n1. Create a structured data science notebook.\n2. Explore basic arithmetic expressions.\n3. Practice coding in Python.\n4. Share the notebook through GitHub.\n",
      "metadata": {
        "editable": true,
        "slideshow": {
          "slide_type": ""
        }
      }
    },
    {
      "cell_type": "markdown",
      "source": "## Author\n\nHaroon\n",
      "metadata": {}
    },
    {
      "cell_type": "code",
      "source": "",
      "metadata": {
        "trusted": true
      },
      "outputs": [],
      "execution_count": null
    }
  ]
}